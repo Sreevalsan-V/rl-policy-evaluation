{
  "nbformat": 4,
  "nbformat_minor": 0,
  "metadata": {
    "colab": {
      "provenance": []
    },
    "kernelspec": {
      "name": "python3",
      "display_name": "Python 3"
    },
    "language_info": {
      "name": "python"
    }
  },
  "cells": [
    {
      "cell_type": "code",
      "source": [
        "pip install git+https://github.com/mimoralea/gym-walk#egg=gym-walk"
      ],
      "metadata": {
        "colab": {
          "base_uri": "https://localhost:8080/"
        },
        "id": "fveUG62dLuPf",
        "outputId": "7a56a288-6a9d-4aea-e647-b0bd5b934d4b"
      },
      "execution_count": 2,
      "outputs": [
        {
          "output_type": "stream",
          "name": "stdout",
          "text": [
            "Collecting gym-walk\n",
            "  Cloning https://github.com/mimoralea/gym-walk to /tmp/pip-install-eyqlo8eh/gym-walk_be4ac7300413483d9ae0be1334273884\n",
            "  Running command git clone --filter=blob:none --quiet https://github.com/mimoralea/gym-walk /tmp/pip-install-eyqlo8eh/gym-walk_be4ac7300413483d9ae0be1334273884\n",
            "  Resolved https://github.com/mimoralea/gym-walk to commit 5999016267d6de2f5a63307fb00dfd63de319ac1\n",
            "  Preparing metadata (setup.py) ... \u001b[?25l\u001b[?25hdone\n",
            "Requirement already satisfied: gym in /usr/local/lib/python3.10/dist-packages (from gym-walk) (0.25.2)\n",
            "Requirement already satisfied: numpy>=1.18.0 in /usr/local/lib/python3.10/dist-packages (from gym->gym-walk) (1.25.2)\n",
            "Requirement already satisfied: cloudpickle>=1.2.0 in /usr/local/lib/python3.10/dist-packages (from gym->gym-walk) (2.2.1)\n",
            "Requirement already satisfied: gym-notices>=0.0.4 in /usr/local/lib/python3.10/dist-packages (from gym->gym-walk) (0.0.8)\n",
            "Building wheels for collected packages: gym-walk\n",
            "  Building wheel for gym-walk (setup.py) ... \u001b[?25l\u001b[?25hdone\n",
            "  Created wheel for gym-walk: filename=gym_walk-0.0.2-py3-none-any.whl size=4054 sha256=ff8fe7ad177186c5515f36ab6ddaef614393f472809a5e36d9e489b632f0cdd2\n",
            "  Stored in directory: /tmp/pip-ephem-wheel-cache-007uxc26/wheels/24/fe/c4/0cbc7511d29265bad7e28a09311db3f87f0cafba74af54d530\n",
            "Successfully built gym-walk\n",
            "Installing collected packages: gym-walk\n",
            "Successfully installed gym-walk-0.0.2\n"
          ]
        }
      ]
    },
    {
      "cell_type": "code",
      "execution_count": 3,
      "metadata": {
        "id": "NemJe4J3Leh6"
      },
      "outputs": [],
      "source": [
        "import warnings ; warnings.filterwarnings('ignore')\n",
        "\n",
        "import gym, gym_walk\n",
        "import numpy as np\n",
        "\n",
        "import random\n",
        "import warnings\n",
        "\n",
        "warnings.filterwarnings('ignore', category=DeprecationWarning)\n",
        "np.set_printoptions(suppress=True)\n",
        "random.seed(123); np.random.seed(123)\n",
        "\n",
        "# Reference https://github.com/mimoralea/gym-walk"
      ]
    },
    {
      "cell_type": "code",
      "source": [
        "def print_policy(pi, P, action_symbols=('<', 'v', '>', '^'), n_cols=4, title='Policy:'):\n",
        "    print(title)\n",
        "    arrs = {k:v for k,v in enumerate(action_symbols)}\n",
        "    for s in range(len(P)):\n",
        "        a = pi(s)\n",
        "        print(\"| \", end=\"\")\n",
        "        if np.all([done for action in P[s].values() for _, _, _, done in action]):\n",
        "            print(\"\".rjust(9), end=\" \")\n",
        "        else:\n",
        "            print(str(s).zfill(2), arrs[a].rjust(6), end=\" \")\n",
        "        if (s + 1) % n_cols == 0: print(\"|\")"
      ],
      "metadata": {
        "id": "XGlhoustLozc"
      },
      "execution_count": 4,
      "outputs": []
    },
    {
      "cell_type": "code",
      "source": [
        "def print_state_value_function(V, P, n_cols=4, prec=3, title='State-value function:'):\n",
        "    print(title)\n",
        "    for s in range(len(P)):\n",
        "        v = V[s]\n",
        "        print(\"| \", end=\"\")\n",
        "        if np.all([done for action in P[s].values() for _, _, _, done in action]):\n",
        "            print(\"\".rjust(9), end=\" \")\n",
        "        else:\n",
        "            print(str(s).zfill(2), '{}'.format(np.round(v, prec)).rjust(6), end=\" \")\n",
        "        if (s + 1) % n_cols == 0: print(\"|\")"
      ],
      "metadata": {
        "id": "SL_Cw2KzLs4T"
      },
      "execution_count": 5,
      "outputs": []
    },
    {
      "cell_type": "code",
      "source": [
        "def probability_success(env, pi, goal_state, n_episodes=100, max_steps=200):\n",
        "    random.seed(123); np.random.seed(123) ; env.seed(123)\n",
        "    results = []\n",
        "    for _ in range(n_episodes):\n",
        "        state, done, steps = env.reset(), False, 0\n",
        "        while not done and steps < max_steps:\n",
        "            state, _, done, h = env.step(pi(state))\n",
        "            steps += 1\n",
        "        results.append(state == goal_state)\n",
        "    return np.sum(results)/len(results)"
      ],
      "metadata": {
        "id": "e43Uf3HcMBej"
      },
      "execution_count": 6,
      "outputs": []
    },
    {
      "cell_type": "code",
      "source": [
        "def mean_return(env, pi, n_episodes=100, max_steps=200):\n",
        "    random.seed(123); np.random.seed(123) ; env.seed(123)\n",
        "    results = []\n",
        "    for _ in range(n_episodes):\n",
        "        state, done, steps = env.reset(), False, 0\n",
        "        results.append(0.0)\n",
        "        while not done and steps < max_steps:\n",
        "            state, reward, done, _ = env.step(pi(state))\n",
        "            results[-1] += reward\n",
        "            steps += 1\n",
        "    return np.mean(results)"
      ],
      "metadata": {
        "id": "NHdtYgyMMDta"
      },
      "execution_count": 7,
      "outputs": []
    },
    {
      "cell_type": "code",
      "source": [
        "env = gym.make('SlipperyWalkFive-v0')\n",
        "P = env.env.P\n",
        "init_state = env.reset()\n",
        "goal_state = 6\n",
        "LEFT, RIGHT = range(2)"
      ],
      "metadata": {
        "id": "AD1ScLdtMFoG"
      },
      "execution_count": 8,
      "outputs": []
    },
    {
      "cell_type": "code",
      "source": [
        "P"
      ],
      "metadata": {
        "colab": {
          "base_uri": "https://localhost:8080/"
        },
        "id": "HBRsgZZKMJov",
        "outputId": "efbbbe21-ad00-4ca8-a50b-7a9533bc3dfc"
      },
      "execution_count": 9,
      "outputs": [
        {
          "output_type": "execute_result",
          "data": {
            "text/plain": [
              "{0: {0: [(0.5000000000000001, 0, 0.0, True),\n",
              "   (0.3333333333333333, 0, 0.0, True),\n",
              "   (0.16666666666666666, 0, 0.0, True)],\n",
              "  1: [(0.5000000000000001, 0, 0.0, True),\n",
              "   (0.3333333333333333, 0, 0.0, True),\n",
              "   (0.16666666666666666, 0, 0.0, True)]},\n",
              " 1: {0: [(0.5000000000000001, 0, 0.0, True),\n",
              "   (0.3333333333333333, 1, 0.0, False),\n",
              "   (0.16666666666666666, 2, 0.0, False)],\n",
              "  1: [(0.5000000000000001, 2, 0.0, False),\n",
              "   (0.3333333333333333, 1, 0.0, False),\n",
              "   (0.16666666666666666, 0, 0.0, True)]},\n",
              " 2: {0: [(0.5000000000000001, 1, 0.0, False),\n",
              "   (0.3333333333333333, 2, 0.0, False),\n",
              "   (0.16666666666666666, 3, 0.0, False)],\n",
              "  1: [(0.5000000000000001, 3, 0.0, False),\n",
              "   (0.3333333333333333, 2, 0.0, False),\n",
              "   (0.16666666666666666, 1, 0.0, False)]},\n",
              " 3: {0: [(0.5000000000000001, 2, 0.0, False),\n",
              "   (0.3333333333333333, 3, 0.0, False),\n",
              "   (0.16666666666666666, 4, 0.0, False)],\n",
              "  1: [(0.5000000000000001, 4, 0.0, False),\n",
              "   (0.3333333333333333, 3, 0.0, False),\n",
              "   (0.16666666666666666, 2, 0.0, False)]},\n",
              " 4: {0: [(0.5000000000000001, 3, 0.0, False),\n",
              "   (0.3333333333333333, 4, 0.0, False),\n",
              "   (0.16666666666666666, 5, 0.0, False)],\n",
              "  1: [(0.5000000000000001, 5, 0.0, False),\n",
              "   (0.3333333333333333, 4, 0.0, False),\n",
              "   (0.16666666666666666, 3, 0.0, False)]},\n",
              " 5: {0: [(0.5000000000000001, 4, 0.0, False),\n",
              "   (0.3333333333333333, 5, 0.0, False),\n",
              "   (0.16666666666666666, 6, 1.0, True)],\n",
              "  1: [(0.5000000000000001, 6, 1.0, True),\n",
              "   (0.3333333333333333, 5, 0.0, False),\n",
              "   (0.16666666666666666, 4, 0.0, False)]},\n",
              " 6: {0: [(0.5000000000000001, 6, 0.0, True),\n",
              "   (0.3333333333333333, 6, 0.0, True),\n",
              "   (0.16666666666666666, 6, 0.0, True)],\n",
              "  1: [(0.5000000000000001, 6, 0.0, True),\n",
              "   (0.3333333333333333, 6, 0.0, True),\n",
              "   (0.16666666666666666, 6, 0.0, True)]}}"
            ]
          },
          "metadata": {},
          "execution_count": 9
        }
      ]
    },
    {
      "cell_type": "code",
      "source": [
        "init_state"
      ],
      "metadata": {
        "colab": {
          "base_uri": "https://localhost:8080/"
        },
        "id": "VBit0OtsMNy0",
        "outputId": "63ecae72-46fb-4810-87dc-d2c7f5da76e5"
      },
      "execution_count": 10,
      "outputs": [
        {
          "output_type": "execute_result",
          "data": {
            "text/plain": [
              "3"
            ]
          },
          "metadata": {},
          "execution_count": 10
        }
      ]
    },
    {
      "cell_type": "code",
      "source": [
        "state, reward, done, info = env.step(RIGHT)\n",
        "print(\"state:{0} - reward:{1} - done:{2} - info:{3}\".format(state, reward, done, info))"
      ],
      "metadata": {
        "colab": {
          "base_uri": "https://localhost:8080/"
        },
        "id": "Pbk-d9E3MOU2",
        "outputId": "943f58db-d31c-42ca-b5a5-a91f21bd3fa9"
      },
      "execution_count": 11,
      "outputs": [
        {
          "output_type": "stream",
          "name": "stdout",
          "text": [
            "state:2 - reward:0.0 - done:False - info:{'prob': 0.16666666666666666}\n"
          ]
        }
      ]
    },
    {
      "cell_type": "code",
      "source": [
        "# First Policy\n",
        "pi_1 = lambda s: {\n",
        "    0:LEFT, 1:LEFT, 2:LEFT, 3:LEFT, 4:LEFT, 5:LEFT, 6:LEFT\n",
        "}[s]\n",
        "print_policy(pi_1, P, action_symbols=('<', '>'), n_cols=7)"
      ],
      "metadata": {
        "colab": {
          "base_uri": "https://localhost:8080/"
        },
        "id": "OyroMWxmMRJv",
        "outputId": "f217e0b2-40cf-45a5-c8f1-6944bc72f312"
      },
      "execution_count": 12,
      "outputs": [
        {
          "output_type": "stream",
          "name": "stdout",
          "text": [
            "Policy:\n",
            "|           | 01      < | 02      < | 03      < | 04      < | 05      < |           |\n"
          ]
        }
      ]
    },
    {
      "cell_type": "code",
      "source": [
        "# Find the probability of success and the mean return of the first policy\n",
        "print('Reaches goal {:.2f}%. Obtains an average undiscounted return of {:.4f}.'.format(\n",
        "    probability_success(env, pi_1, goal_state=goal_state)*100,\n",
        "    mean_return(env, pi_1)))"
      ],
      "metadata": {
        "colab": {
          "base_uri": "https://localhost:8080/"
        },
        "id": "itB0HpWGMTDR",
        "outputId": "cf2244bf-f3d7-4a97-bc37-f0f647d48805"
      },
      "execution_count": 13,
      "outputs": [
        {
          "output_type": "stream",
          "name": "stdout",
          "text": [
            "Reaches goal 3.00%. Obtains an average undiscounted return of 0.0300.\n"
          ]
        }
      ]
    },
    {
      "cell_type": "code",
      "source": [
        "# Create your own policy\n",
        "pi_2 = lambda s: {\n",
        "    0:LEFT, 1:RIGHT, 2:LEFT, 3:RIGHT, 4:LEFT, 5:LEFT, 6:RIGHT\n",
        "}[s]\n",
        "\n",
        "# Write your code here\n",
        "\n",
        "print_policy(pi_2, P, action_symbols=('<', '>'), n_cols=7)"
      ],
      "metadata": {
        "colab": {
          "base_uri": "https://localhost:8080/"
        },
        "id": "vDARhsGeMWIo",
        "outputId": "175a00c0-91b7-46eb-bd44-345823b447e8"
      },
      "execution_count": 14,
      "outputs": [
        {
          "output_type": "stream",
          "name": "stdout",
          "text": [
            "Policy:\n",
            "|           | 01      > | 02      < | 03      > | 04      < | 05      < |           |\n"
          ]
        }
      ]
    },
    {
      "cell_type": "code",
      "source": [
        "# Find the probability of success and the mean return of you your policy\n",
        "print('Reaches goal {:.2f}%. Obtains an average undiscounted return of {:.4f}.'.format(\n",
        "    probability_success(env, pi_2, goal_state=goal_state)*100,\n",
        "    mean_return(env, pi_2)))"
      ],
      "metadata": {
        "colab": {
          "base_uri": "https://localhost:8080/"
        },
        "id": "7uhrZJ6NMoQ7",
        "outputId": "e7c2136e-4047-403a-b3e9-9d5a5054d736"
      },
      "execution_count": 15,
      "outputs": [
        {
          "output_type": "stream",
          "name": "stdout",
          "text": [
            "Reaches goal 30.00%. Obtains an average undiscounted return of 0.3000.\n"
          ]
        }
      ]
    },
    {
      "cell_type": "code",
      "source": [
        "def policy_evaluation(pi, P, gamma=1.0, theta=1e-10):\n",
        "    prev_V = np.zeros(len(P), dtype=np.float64)\n",
        "    while True:\n",
        "      V=np.zeros(len(P), dtype=np.float64)\n",
        "      for s in range(len(P)):\n",
        "        for prob, next_state, reward, done in P[s][pi(s)]:\n",
        "          V[s] += prob * (reward + gamma *  prev_V[next_state] * (not done))\n",
        "      if np.max(np.abs(prev_V - V)) < theta:\n",
        "        break\n",
        "      prev_V = V.copy()\n",
        "    return V"
      ],
      "metadata": {
        "id": "BfIPUhUHMwmy"
      },
      "execution_count": 16,
      "outputs": []
    },
    {
      "cell_type": "code",
      "source": [
        "# Code to evaluate the first policy\n",
        "V1 = policy_evaluation(pi_1, P)\n",
        "print_state_value_function(V1, P, n_cols=7, prec=5)"
      ],
      "metadata": {
        "colab": {
          "base_uri": "https://localhost:8080/"
        },
        "id": "-15eODiIOrv0",
        "outputId": "1cb9c601-1dc3-441c-fb92-c0a5a530469d"
      },
      "execution_count": 17,
      "outputs": [
        {
          "output_type": "stream",
          "name": "stdout",
          "text": [
            "State-value function:\n",
            "|           | 01 0.00275 | 02 0.01099 | 03 0.03571 | 04 0.10989 | 05 0.33242 |           |\n"
          ]
        }
      ]
    },
    {
      "cell_type": "code",
      "source": [
        "# Code to evaluate the second policy\n",
        "V2 = policy_evaluation(pi_2, P)\n",
        "print_state_value_function(V2, P, n_cols=7, prec=5)"
      ],
      "metadata": {
        "colab": {
          "base_uri": "https://localhost:8080/"
        },
        "id": "GPcEIldgOvHy",
        "outputId": "4d61dc3e-3ddc-4407-b5ff-acbce8440575"
      },
      "execution_count": 18,
      "outputs": [
        {
          "output_type": "stream",
          "name": "stdout",
          "text": [
            "State-value function:\n",
            "|           | 01   0.15 | 02    0.2 | 03   0.35 | 04    0.4 | 05   0.55 |           |\n"
          ]
        }
      ]
    },
    {
      "cell_type": "markdown",
      "source": [
        "![image.png](data:image/png;base64,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)"
      ],
      "metadata": {
        "id": "hOKJZQlznu6p"
      }
    },
    {
      "cell_type": "code",
      "source": [
        "V1\n"
      ],
      "metadata": {
        "colab": {
          "base_uri": "https://localhost:8080/"
        },
        "id": "KqFOvumwnaHp",
        "outputId": "074ba4bc-0ffc-4f3c-c508-4c3d67d64d1b"
      },
      "execution_count": 19,
      "outputs": [
        {
          "output_type": "execute_result",
          "data": {
            "text/plain": [
              "array([0.        , 0.00274725, 0.01098901, 0.03571429, 0.10989011,\n",
              "       0.33241758, 0.        ])"
            ]
          },
          "metadata": {},
          "execution_count": 19
        }
      ]
    },
    {
      "cell_type": "code",
      "source": [
        "print_state_value_function(V1, P, n_cols=7, prec=5)\n"
      ],
      "metadata": {
        "colab": {
          "base_uri": "https://localhost:8080/"
        },
        "id": "NCxKl5SSnZ8O",
        "outputId": "0b2bf1e8-1cf1-497d-efb1-d12f1f972fa9"
      },
      "execution_count": 20,
      "outputs": [
        {
          "output_type": "stream",
          "name": "stdout",
          "text": [
            "State-value function:\n",
            "|           | 01 0.00275 | 02 0.01099 | 03 0.03571 | 04 0.10989 | 05 0.33242 |           |\n"
          ]
        }
      ]
    },
    {
      "cell_type": "code",
      "source": [
        "V2\n"
      ],
      "metadata": {
        "colab": {
          "base_uri": "https://localhost:8080/"
        },
        "id": "D2_BXZdsnZwx",
        "outputId": "e159d4e5-9105-4da5-c07d-4b48a348b071"
      },
      "execution_count": 21,
      "outputs": [
        {
          "output_type": "execute_result",
          "data": {
            "text/plain": [
              "array([0.  , 0.15, 0.2 , 0.35, 0.4 , 0.55, 0.  ])"
            ]
          },
          "metadata": {},
          "execution_count": 21
        }
      ]
    },
    {
      "cell_type": "code",
      "source": [
        "print_state_value_function(V2, P, n_cols=7, prec=5)\n"
      ],
      "metadata": {
        "colab": {
          "base_uri": "https://localhost:8080/"
        },
        "id": "ggZEx3PUnZev",
        "outputId": "6b879817-7be1-4a0f-e284-a4792968a986"
      },
      "execution_count": 22,
      "outputs": [
        {
          "output_type": "stream",
          "name": "stdout",
          "text": [
            "State-value function:\n",
            "|           | 01   0.15 | 02    0.2 | 03   0.35 | 04    0.4 | 05   0.55 |           |\n"
          ]
        }
      ]
    },
    {
      "cell_type": "code",
      "source": [
        "V1>=V2"
      ],
      "metadata": {
        "colab": {
          "base_uri": "https://localhost:8080/"
        },
        "id": "s24ca4SFnk8Y",
        "outputId": "60cfa955-36c4-49b6-b497-ecd2a08298d1"
      },
      "execution_count": 23,
      "outputs": [
        {
          "output_type": "execute_result",
          "data": {
            "text/plain": [
              "array([ True, False, False, False, False, False,  True])"
            ]
          },
          "metadata": {},
          "execution_count": 23
        }
      ]
    },
    {
      "cell_type": "code",
      "source": [
        "\n",
        "if(np.sum(V1>=V2)==7):\n",
        "  print(\"The first policy is the better policy\")\n",
        "elif(np.sum(V2>=V1)==7):\n",
        "  print(\"The second policy is the better policy\")\n",
        "else:\n",
        "  print(\"Both policies have their merits.\")"
      ],
      "metadata": {
        "colab": {
          "base_uri": "https://localhost:8080/"
        },
        "id": "Os_m_tsZPNst",
        "outputId": "ca939304-f434-4a24-f96c-38bbc5738b16"
      },
      "execution_count": 24,
      "outputs": [
        {
          "output_type": "stream",
          "name": "stdout",
          "text": [
            "The second policy is the better policy\n"
          ]
        }
      ]
    }
  ]
}